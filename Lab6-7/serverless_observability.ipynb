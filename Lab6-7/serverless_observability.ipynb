{
 "cells": [
  {
   "cell_type": "markdown",
   "id": "909fda6e-cefd-4ca9-b112-26db0a734c08",
   "metadata": {
    "tags": []
   },
   "source": [
    "# Install SAM\n",
    "\n",
    "First we need to install SAM to install our first serverless APP"
   ]
  },
  {
   "cell_type": "code",
   "execution_count": 35,
   "id": "dc0ca2ed-d925-4c31-a732-f9b52b16f338",
   "metadata": {
    "tags": []
   },
   "outputs": [
    {
     "name": "stdout",
     "output_type": "stream",
     "text": [
      "  % Total    % Received % Xferd  Average Speed   Time    Time     Time  Current\n",
      "                                 Dload  Upload   Total   Spent    Left  Speed\n",
      "  0     0    0     0    0     0      0      0 --:--:-- --:--:-- --:--:--     0\n",
      "  0     0    0     0    0     0      0      0 --:--:-- --:--:-- --:--:--     0\n",
      "100 77.4M  100 77.4M    0     0  59.3M      0  0:00:01  0:00:01 --:--:--  120M\n",
      "Archive:  aws-sam-cli-linux-x86_64.zip\n",
      "caution: filename not matched:  -qq\n",
      "Found preexisting AWS SAM CLI installation: /usr/local/aws-sam-cli/current. Please rerun install script with --update flag.\n",
      "/usr/local/bin/sam\n",
      "SAM CLI, version 1.126.0\n"
     ]
    }
   ],
   "source": [
    "! curl -L https://github.com/aws/aws-sam-cli/releases/latest/download/aws-sam-cli-linux-x86_64.zip -o aws-sam-cli-linux-x86_64.zip\n",
    "! unzip aws-sam-cli-linux-x86_64.zip -d sam-installation -qq\n",
    "! ./sam-installation/install\n",
    "! which sam\n",
    "! sam --version"
   ]
  },
  {
   "cell_type": "markdown",
   "id": "82ec6434-02dd-42c1-8d07-2a3533705073",
   "metadata": {
    "tags": []
   },
   "source": [
    "## Let's download an application\n",
    "\n",
    "We'll clone a sample application from git\n",
    "\n",
    "The sample app takes an architecture diagram as a png image from you and transforms it into a blog post as a PDF using Amazon Bedrock"
   ]
  },
  {
   "cell_type": "code",
   "execution_count": 36,
   "id": "6febcd55-24a4-49ad-923f-6801bab69904",
   "metadata": {
    "tags": []
   },
   "outputs": [
    {
     "name": "stdout",
     "output_type": "stream",
     "text": [
      "fatal: destination path 'amazon-bedrock-claudev3-sonnet-blog-generation' already exists and is not an empty directory.\n"
     ]
    }
   ],
   "source": [
    "! git clone https://github.com/aws-samples/amazon-bedrock-claudev3-sonnet-blog-generation.git"
   ]
  },
  {
   "cell_type": "markdown",
   "id": "85769c3e-947d-4133-ba7a-35093c1795b4",
   "metadata": {
    "tags": []
   },
   "source": [
    "## Add a build step to the application\n",
    "\n",
    "Go to folder src right click and choose 'create a new file' and create a new file named `requirements.txt`\n",
    "\n",
    "Add the folloing line to the file and then press enter to add an empty new line\n",
    "\n",
    "`fpdf2`\n",
    "\n",
    "This is a library that is needed to create PDF files from the Lambda function\n",
    "\n",
    "Now let's build our application"
   ]
  },
  {
   "cell_type": "code",
   "execution_count": 37,
   "id": "5757f166-de3d-454e-9000-1eaa37b4e115",
   "metadata": {},
   "outputs": [
    {
     "name": "stderr",
     "output_type": "stream",
     "text": [
      "Building codeuri: /home/ec2-user/SageMaker/amazon-bedrock-claudev3-sonnet-blog-generation/src runtime: python3.12 architecture: x86_64 functions: InvokeBedrockClaudeV3Function\n",
      " Running PythonPipBuilder:ResolveDependencies\n",
      " Running PythonPipBuilder:CopySource\n"
     ]
    },
    {
     "name": "stdout",
     "output_type": "stream",
     "text": [
      "\n",
      "Build Succeeded\n",
      "\n",
      "Built Artifacts  : .aws-sam/build\n",
      "Built Template   : .aws-sam/build/template.yaml\n",
      "\n",
      "Commands you can use next\n",
      "=========================\n",
      "[*] Validate SAM template: sam validate\n",
      "[*] Invoke Function: sam local invoke\n",
      "[*] Test Function in the Cloud: sam sync --stack-name {{stack-name}} --watch\n",
      "[*] Deploy: sam deploy --guided\n"
     ]
    }
   ],
   "source": [
    "%%bash\n",
    "cd amazon-bedrock-claudev3-sonnet-blog-generation\n",
    "sam build"
   ]
  },
  {
   "cell_type": "markdown",
   "id": "6548a6c1-ba05-4f12-8e09-5a267d63dfa8",
   "metadata": {},
   "source": [
    "## Deploy the app with SAM\n",
    "\n",
    "We need to interact with CLI and this will be hard from the notebook. Now click on the plus icon to open a new terminal\n",
    "\n",
    "<img src=\"navi.png\" alt=\"nav_bar\" />\n",
    "\n",
    "<img src=\"terminal.png\" alt=\"terminal\"/>\n"
   ]
  },
  {
   "cell_type": "markdown",
   "id": "dc87346d-e130-4a9e-8c63-c1dcabcaddf1",
   "metadata": {
    "tags": []
   },
   "source": [
    "## Deploy the APP\n",
    "\n",
    "execute\n",
    "```bash\n",
    "sam deploy -g\n",
    "```\n",
    "\n",
    "Add stack name as `bedrock`, region as `us-west-2` and press enter on the rest to use default inputs.\n",
    "\n",
    "Once you get a confirmation message that app is deployed you can continue with testing\n",
    "\n",
    "```bash\n",
    "Successfully created/updated stack - bedrock in us-west-2\n",
    "```"
   ]
  },
  {
   "cell_type": "markdown",
   "id": "26f2ee97-32c4-4d79-a40e-5c39e1d22852",
   "metadata": {},
   "source": [
    "## Now let's try the app\n",
    "\n",
    "Try to upload `sample-architecture.jpeg` image found in the repository `amazon-bedrock-claudev3-sonnet-blog-generation` to your input bucket. Then go and check the result in the output bucket\n",
    "<img src=\"buckets.png\" alt=\"nav_bar\" />"
   ]
  },
  {
   "cell_type": "markdown",
   "id": "fa97d4c6-8a63-493f-8a2b-cf9a789aee3a",
   "metadata": {},
   "source": [
    "## Let's add more custom observability\n",
    "\n",
    "We can add more CloudWatch metrics to our function to indicate that certain parts of the code were invoked or to monitor some outputs of our processes.\n",
    "\n",
    "Let's go the `template.yaml` file and add a policy to our Lambda\n",
    "\n",
    "```yaml\n",
    "- Version: '2012-10-17'\n",
    "  Statement:\n",
    "    - Effect: Allow\n",
    "      Action: \n",
    "        - \"cloudwatch:PutMetricData\"\n",
    "      Resource: \"*\"\n",
    "```\n",
    "Additionaly now we need to log something new from our function\n",
    "\n",
    "Go inside the `src` folder and open `app.py`\n",
    "\n",
    "Right after this line\n",
    "```python\n",
    "# Parse the response body\n",
    "response_body = json.loads(response.get('body').read())\n",
    "print(response_body)\n",
    "```\n",
    "\n",
    "We can add the following lines\n",
    "```python\n",
    "cloudwatch = boto3.client('cloudwatch')\n",
    "\n",
    "cloudwatch.put_metric_data(\n",
    "    MetricData = [\n",
    "        {\n",
    "            'MetricName': 'InputTokens',\n",
    "            'Unit': 'Count',\n",
    "            'Value': response_body[\"usage\"][\"input_tokens\"]\n",
    "        },\n",
    "        {\n",
    "            'MetricName': 'OutputTokens',\n",
    "            'Unit': 'Count',\n",
    "            'Value': response_body[\"usage\"][\"output_tokens\"]\n",
    "        },\n",
    "    ],\n",
    "    Namespace='MyAppTokens'\n",
    ")\n",
    "```"
   ]
  },
  {
   "cell_type": "markdown",
   "id": "28338c0a-c15b-4f48-8b1a-b52e0c3ec7be",
   "metadata": {},
   "source": [
    "## Build, Deploy, Test\n",
    "\n",
    "Now you need to prepat the following steps\n",
    "- Build: we need to invoke `sam build` from the terminal to update the lambda code\n",
    "- Deploy: We need to upload the changed lambda code and our changed template that now adds cloudwatch loging pemissions\n",
    "- Finally we can reupload our sample image to input bucket, but now we need to observe additional metrics\n"
   ]
  },
  {
   "cell_type": "markdown",
   "id": "fa910e4e-ca29-41dc-9928-c90d2efd6316",
   "metadata": {},
   "source": [
    "## Check metrics in CLoudWatch metrics (takes 5 mins)\n",
    "\n",
    "Now you can go check your new custom metric in the [Amazon Cloudwatch console](https://us-west-2.console.aws.amazon.com/cloudwatch/home?region=us-west-2#metricsV2?graph=~(view~'timeSeries~stacked~false~metrics~(~(~'MyAppTokens~'InputTokens)~(~'.~'OutputTokens))~region~'us-west-2~start~'-PT1H~end~'P0D)&query=~'*7bMyAppTokens*7d)"
   ]
  },
  {
   "cell_type": "markdown",
   "id": "5a1cc44c-86be-4e3b-976b-ee8569e95d4b",
   "metadata": {},
   "source": [
    "## Final thoughts\n",
    "\n",
    "You can also add custom metrics to your AWS StepFunctions workflows to keep AWS Lambda code clean\n",
    "\n",
    "<img src=\"stepfunctions.png\" alt=\"terminal\"/>\n"
   ]
  },
  {
   "cell_type": "code",
   "execution_count": null,
   "id": "b6ff030b-5729-4798-b26a-5a7f6e8129d8",
   "metadata": {},
   "outputs": [],
   "source": []
  }
 ],
 "metadata": {
  "kernelspec": {
   "display_name": "conda_python3",
   "language": "python",
   "name": "conda_python3"
  },
  "language_info": {
   "codemirror_mode": {
    "name": "ipython",
    "version": 3
   },
   "file_extension": ".py",
   "mimetype": "text/x-python",
   "name": "python",
   "nbconvert_exporter": "python",
   "pygments_lexer": "ipython3",
   "version": "3.10.15"
  }
 },
 "nbformat": 4,
 "nbformat_minor": 5
}
